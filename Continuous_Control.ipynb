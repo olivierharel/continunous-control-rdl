{
 "cells": [
  {
   "cell_type": "markdown",
   "metadata": {},
   "source": [
    "# Continuous Control\n",
    "\n",
    "---\n",
    "\n",
    "In this notebook, you will learn how to use the Unity ML-Agents environment for the second project of the [Deep Reinforcement Learning Nanodegree](https://www.udacity.com/course/deep-reinforcement-learning-nanodegree--nd893) program.\n",
    "\n",
    "### 1. Start the Environment\n",
    "\n",
    "We begin by importing the necessary packages.  If the code cell below returns an error, please revisit the project instructions to double-check that you have installed [Unity ML-Agents](https://github.com/Unity-Technologies/ml-agents/blob/master/docs/Installation.md) and [NumPy](http://www.numpy.org/)."
   ]
  },
  {
   "cell_type": "code",
   "execution_count": 1,
   "metadata": {},
   "outputs": [],
   "source": [
    "from unityagents import UnityEnvironment\n",
    "import numpy as np"
   ]
  },
  {
   "cell_type": "markdown",
   "metadata": {},
   "source": [
    "Next, we will start the environment!  **_Before running the code cell below_**, change the `file_name` parameter to match the location of the Unity environment that you downloaded.\n",
    "\n",
    "- **Mac**: `\"path/to/Reacher.app\"`\n",
    "- **Windows** (x86): `\"path/to/Reacher_Windows_x86/Reacher.exe\"`\n",
    "- **Windows** (x86_64): `\"path/to/Reacher_Windows_x86_64/Reacher.exe\"`\n",
    "- **Linux** (x86): `\"path/to/Reacher_Linux/Reacher.x86\"`\n",
    "- **Linux** (x86_64): `\"path/to/Reacher_Linux/Reacher.x86_64\"`\n",
    "- **Linux** (x86, headless): `\"path/to/Reacher_Linux_NoVis/Reacher.x86\"`\n",
    "- **Linux** (x86_64, headless): `\"path/to/Reacher_Linux_NoVis/Reacher.x86_64\"`\n",
    "\n",
    "For instance, if you are using a Mac, then you downloaded `Reacher.app`.  If this file is in the same folder as the notebook, then the line below should appear as follows:\n",
    "```\n",
    "env = UnityEnvironment(file_name=\"Reacher.app\")\n",
    "```"
   ]
  },
  {
   "cell_type": "code",
   "execution_count": 2,
   "metadata": {},
   "outputs": [
    {
     "name": "stdout",
     "output_type": "stream",
     "text": [
      "Mono path[0] = '/Users/olivierharel/Desktop/udacity/deep-reinforcement-learning/p2_continuous-control/Reacher.app/Contents/Resources/Data/Managed'\n",
      "Mono config path = '/Users/olivierharel/Desktop/udacity/deep-reinforcement-learning/p2_continuous-control/Reacher.app/Contents/MonoBleedingEdge/etc'\n"
     ]
    },
    {
     "name": "stderr",
     "output_type": "stream",
     "text": [
      "INFO:unityagents:\n",
      "'Academy' started successfully!\n",
      "Unity Academy name: Academy\n",
      "        Number of Brains: 1\n",
      "        Number of External Brains : 1\n",
      "        Lesson number : 0\n",
      "        Reset Parameters :\n",
      "\t\tgoal_size -> 5.0\n",
      "\t\tgoal_speed -> 1.0\n",
      "Unity brain name: ReacherBrain\n",
      "        Number of Visual Observations (per agent): 0\n",
      "        Vector Observation space type: continuous\n",
      "        Vector Observation space size (per agent): 33\n",
      "        Number of stacked Vector Observation: 1\n",
      "        Vector Action space type: continuous\n",
      "        Vector Action space size (per agent): 4\n",
      "        Vector Action descriptions: , , , \n"
     ]
    }
   ],
   "source": [
    "env = UnityEnvironment(file_name='/Users/olivierharel/Desktop/udacity/deep-reinforcement-learning/p2_continuous-control/Reacher.app')"
   ]
  },
  {
   "cell_type": "markdown",
   "metadata": {},
   "source": [
    "Environments contain **_brains_** which are responsible for deciding the actions of their associated agents. Here we check for the first brain available, and set it as the default brain we will be controlling from Python."
   ]
  },
  {
   "cell_type": "code",
   "execution_count": 3,
   "metadata": {},
   "outputs": [],
   "source": [
    "# get the default brain\n",
    "brain_name = env.brain_names[0]\n",
    "brain = env.brains[brain_name]"
   ]
  },
  {
   "cell_type": "markdown",
   "metadata": {},
   "source": [
    "### 2. Examine the State and Action Spaces\n",
    "\n",
    "In this environment, a double-jointed arm can move to target locations. A reward of `+0.1` is provided for each step that the agent's hand is in the goal location. Thus, the goal of your agent is to maintain its position at the target location for as many time steps as possible.\n",
    "\n",
    "The observation space consists of `33` variables corresponding to position, rotation, velocity, and angular velocities of the arm.  Each action is a vector with four numbers, corresponding to torque applicable to two joints.  Every entry in the action vector must be a number between `-1` and `1`.\n",
    "\n",
    "Run the code cell below to print some information about the environment."
   ]
  },
  {
   "cell_type": "code",
   "execution_count": 4,
   "metadata": {},
   "outputs": [
    {
     "name": "stdout",
     "output_type": "stream",
     "text": [
      "Number of agents: 20\n",
      "Size of each action: 4\n",
      "There are 20 agents. Each observes a state with length: 33\n",
      "The state for the first agent looks like: [ 0.00000000e+00 -4.00000000e+00  0.00000000e+00  1.00000000e+00\n",
      " -0.00000000e+00 -0.00000000e+00 -4.37113883e-08  0.00000000e+00\n",
      "  0.00000000e+00  0.00000000e+00  0.00000000e+00  0.00000000e+00\n",
      "  0.00000000e+00  0.00000000e+00 -1.00000000e+01  0.00000000e+00\n",
      "  1.00000000e+00 -0.00000000e+00 -0.00000000e+00 -4.37113883e-08\n",
      "  0.00000000e+00  0.00000000e+00  0.00000000e+00  0.00000000e+00\n",
      "  0.00000000e+00  0.00000000e+00  5.75471878e+00 -1.00000000e+00\n",
      "  5.55726624e+00  0.00000000e+00  1.00000000e+00  0.00000000e+00\n",
      " -1.68164849e-01]\n"
     ]
    }
   ],
   "source": [
    "# reset the environment\n",
    "env_info = env.reset(train_mode=True)[brain_name]\n",
    "\n",
    "# number of agents\n",
    "num_agents = len(env_info.agents)\n",
    "print('Number of agents:', num_agents)\n",
    "\n",
    "# size of each action\n",
    "action_size = brain.vector_action_space_size\n",
    "print('Size of each action:', action_size)\n",
    "\n",
    "# examine the state space \n",
    "states = env_info.vector_observations\n",
    "state_size = states.shape[1]\n",
    "print('There are {} agents. Each observes a state with length: {}'.format(states.shape[0], state_size))\n",
    "print('The state for the first agent looks like:', states[0])"
   ]
  },
  {
   "cell_type": "markdown",
   "metadata": {},
   "source": [
    "### 3. Take Random Actions in the Environment\n",
    "\n",
    "In the next code cell, you will learn how to use the Python API to control the agent and receive feedback from the environment.\n",
    "\n",
    "Once this cell is executed, you will watch the agent's performance, if it selects an action at random with each time step.  A window should pop up that allows you to observe the agent, as it moves through the environment.  \n",
    "\n",
    "Of course, as part of the project, you'll have to change the code so that the agent is able to use its experience to gradually choose better actions when interacting with the environment!"
   ]
  },
  {
   "cell_type": "code",
   "execution_count": null,
   "metadata": {},
   "outputs": [],
   "source": [
    "env_info = env.reset(train_mode=False)[brain_name]     # reset the environment    \n",
    "states = env_info.vector_observations                  # get the current state (for each agent)\n",
    "scores = np.zeros(num_agents)                          # initialize the score (for each agent)\n",
    "while True:\n",
    "    actions = np.random.randn(num_agents, action_size) # select an action (for each agent)\n",
    "    actions = np.clip(actions, -1, 1)                  # all actions between -1 and 1\n",
    "    env_info = env.step(actions)[brain_name]           # send all actions to tne environment\n",
    "    next_states = env_info.vector_observations         # get next state (for each agent)\n",
    "    rewards = env_info.rewards                         # get reward (for each agent)\n",
    "    dones = env_info.local_done                        # see if episode finished\n",
    "    scores += env_info.rewards                         # update the score (for each agent)\n",
    "    states = next_states                               # roll over states to next time step\n",
    "    if np.any(dones):                                  # exit loop if episode finished\n",
    "        break\n",
    "print('Total score (averaged over agents) this episode: {}'.format(np.mean(scores)))"
   ]
  },
  {
   "cell_type": "markdown",
   "metadata": {},
   "source": [
    "When finished, you can close the environment."
   ]
  },
  {
   "cell_type": "code",
   "execution_count": null,
   "metadata": {},
   "outputs": [],
   "source": [
    "env.close()"
   ]
  },
  {
   "cell_type": "markdown",
   "metadata": {},
   "source": [
    "### 4. It's Your Turn!\n",
    "\n",
    "Now it's your turn to train your own agent to solve the environment!  When training the environment, set `train_mode=True`, so that the line for resetting the environment looks like the following:\n",
    "```python\n",
    "env_info = env.reset(train_mode=True)[brain_name]\n",
    "```"
   ]
  },
  {
   "cell_type": "code",
   "execution_count": 6,
   "metadata": {},
   "outputs": [],
   "source": [
    "# Import agent and actorCritic\n",
    "from importlib import reload\n",
    "import ddpg_agent_ac\n",
    "reload(ddpg_agent_ac)\n",
    "from ddpg_agent_ac import Agents\n",
    "from ddpg_agent_ac import ActorCritic\n",
    "from collections import deque\n",
    "import torch"
   ]
  },
  {
   "cell_type": "code",
   "execution_count": 8,
   "metadata": {},
   "outputs": [],
   "source": [
    "# Instantiate num_agents agents (workers)\n",
    "agents = Agents(num_agents, state_size, action_size, 0)\n",
    "\n",
    "# Instantiate actor-critic learner\n",
    "# Collects experiences from agents and learns\n",
    "actor_critic = ActorCritic(state_size, action_size, random_seed=num_agents)"
   ]
  },
  {
   "cell_type": "code",
   "execution_count": 9,
   "metadata": {},
   "outputs": [],
   "source": [
    "def ddpg(n_episodes=200, tgt_score=[33,30.5], max_t=2000, trailing_average_period=100, update_period=1, training_per_update_sch=[10,2,0.2]):\n",
    "    scores_deque = deque(maxlen=trailing_average_period)\n",
    "    scores = []\n",
    "    training_per_update = training_per_update_sch[0]\n",
    "    for i_episode in range(1, n_episodes+1):\n",
    "        env_info = env.reset(train_mode=True)[brain_name]     # reset the environment    \n",
    "        states = env_info.vector_observations                 # get the current state (for each agent)\n",
    "        agents.reset()                                        # reset each agent's noise generator\n",
    "        ep_scores = np.zeros(num_agents)                      # initialize the score (for each agent)\n",
    "        for t in range(max_t):\n",
    "            actions = agents.act(states, add_noise=True)\n",
    "            env_info = env.step(actions)[brain_name]\n",
    "            next_states = env_info.vector_observations\n",
    "            rewards = env_info.rewards\n",
    "            dones = env_info.local_done\n",
    "            n_train = training_per_update if ((t%update_period) == 0) else 0\n",
    "            actor_critic.step(states, actions, rewards, next_states, dones, n_train)\n",
    "            if n_train > 0:\n",
    "                agents.update(actor_critic.actor_local)\n",
    "                agents.decay_epsilon()\n",
    "            ep_scores += rewards\n",
    "            states = next_states\n",
    "            if np.any(dones):\n",
    "                break \n",
    "\n",
    "        # Training per update scheduler\n",
    "        nxt_training_per_update = max(training_per_update_sch[1], round(training_per_update_sch[0] - i_episode*training_per_update_sch[2]))\n",
    "        if (nxt_training_per_update != training_per_update):\n",
    "            print(\"Decreasing training per update to: {}\".format(nxt_training_per_update))\n",
    "        training_per_update = nxt_training_per_update\n",
    "\n",
    "        # Average score\n",
    "        avg_score = np.mean(ep_scores)\n",
    "        scores_deque.append(avg_score)\n",
    "        scores.append(avg_score)\n",
    "        print('\\rEpisode {}\\taverage score: {:.2f}\\t{}-last-episodes trailing average score: {:.2f}'.format(\n",
    "               i_episode, avg_score, trailing_average_period, np.mean(scores_deque)))\n",
    "        # Save weights\n",
    "        torch.save(actor_critic.actor_local.state_dict(), 'checkpoint_actor.pth')\n",
    "        torch.save(actor_critic.critic_local.state_dict(), 'checkpoint_critic.pth')\n",
    "        # Test for completion\n",
    "        if (avg_score > tgt_score[0] and np.mean(scores_deque) > tgt_score[1]) and (i_episode >= 100):\n",
    "            print(\"DDPG training complete\")\n",
    "            break\n",
    "            \n",
    "    return scores"
   ]
  },
  {
   "cell_type": "code",
   "execution_count": 10,
   "metadata": {},
   "outputs": [
    {
     "name": "stdout",
     "output_type": "stream",
     "text": [
      "Episode 1\taverage score: 0.86\t100-last-episodes trailing average score: 0.86\n",
      "Episode 2\taverage score: 1.74\t100-last-episodes trailing average score: 1.30\n",
      "Decreasing training per update to: 9\n",
      "Episode 3\taverage score: 3.71\t100-last-episodes trailing average score: 2.11\n",
      "Episode 4\taverage score: 6.59\t100-last-episodes trailing average score: 3.23\n",
      "Episode 5\taverage score: 11.61\t100-last-episodes trailing average score: 4.90\n",
      "Episode 6\taverage score: 19.23\t100-last-episodes trailing average score: 7.29\n",
      "Episode 7\taverage score: 29.82\t100-last-episodes trailing average score: 10.51\n",
      "Decreasing training per update to: 8\n",
      "Episode 8\taverage score: 30.09\t100-last-episodes trailing average score: 12.96\n",
      "Episode 9\taverage score: 35.29\t100-last-episodes trailing average score: 15.44\n",
      "Episode 10\taverage score: 33.91\t100-last-episodes trailing average score: 17.29\n",
      "Episode 11\taverage score: 34.78\t100-last-episodes trailing average score: 18.88\n",
      "Episode 12\taverage score: 32.18\t100-last-episodes trailing average score: 19.98\n",
      "Decreasing training per update to: 7\n",
      "Episode 13\taverage score: 33.04\t100-last-episodes trailing average score: 20.99\n",
      "Episode 14\taverage score: 34.58\t100-last-episodes trailing average score: 21.96\n",
      "Episode 15\taverage score: 30.73\t100-last-episodes trailing average score: 22.55\n",
      "Episode 16\taverage score: 30.06\t100-last-episodes trailing average score: 23.02\n",
      "Episode 17\taverage score: 31.87\t100-last-episodes trailing average score: 23.54\n",
      "Decreasing training per update to: 6\n",
      "Episode 18\taverage score: 32.64\t100-last-episodes trailing average score: 24.04\n",
      "Episode 19\taverage score: 35.13\t100-last-episodes trailing average score: 24.63\n",
      "Episode 20\taverage score: 33.67\t100-last-episodes trailing average score: 25.08\n",
      "Episode 21\taverage score: 34.69\t100-last-episodes trailing average score: 25.54\n",
      "Episode 22\taverage score: 32.64\t100-last-episodes trailing average score: 25.86\n",
      "Decreasing training per update to: 5\n",
      "Episode 23\taverage score: 32.63\t100-last-episodes trailing average score: 26.15\n",
      "Episode 24\taverage score: 31.37\t100-last-episodes trailing average score: 26.37\n",
      "Episode 25\taverage score: 34.52\t100-last-episodes trailing average score: 26.70\n",
      "Episode 26\taverage score: 31.54\t100-last-episodes trailing average score: 26.88\n",
      "Episode 27\taverage score: 34.53\t100-last-episodes trailing average score: 27.17\n",
      "Decreasing training per update to: 4\n",
      "Episode 28\taverage score: 31.41\t100-last-episodes trailing average score: 27.32\n",
      "Episode 29\taverage score: 33.38\t100-last-episodes trailing average score: 27.53\n",
      "Episode 30\taverage score: 25.08\t100-last-episodes trailing average score: 27.44\n",
      "Episode 31\taverage score: 31.78\t100-last-episodes trailing average score: 27.58\n",
      "Episode 32\taverage score: 30.11\t100-last-episodes trailing average score: 27.66\n",
      "Decreasing training per update to: 3\n",
      "Episode 33\taverage score: 26.63\t100-last-episodes trailing average score: 27.63\n",
      "Episode 34\taverage score: 27.04\t100-last-episodes trailing average score: 27.61\n",
      "Episode 35\taverage score: 26.59\t100-last-episodes trailing average score: 27.59\n",
      "Episode 36\taverage score: 33.23\t100-last-episodes trailing average score: 27.74\n",
      "Episode 37\taverage score: 34.64\t100-last-episodes trailing average score: 27.93\n",
      "Decreasing training per update to: 2\n",
      "Episode 38\taverage score: 35.20\t100-last-episodes trailing average score: 28.12\n",
      "Episode 39\taverage score: 34.00\t100-last-episodes trailing average score: 28.27\n",
      "Episode 40\taverage score: 30.82\t100-last-episodes trailing average score: 28.33\n",
      "Episode 41\taverage score: 36.05\t100-last-episodes trailing average score: 28.52\n",
      "Episode 42\taverage score: 33.99\t100-last-episodes trailing average score: 28.65\n",
      "Episode 43\taverage score: 33.92\t100-last-episodes trailing average score: 28.78\n",
      "Episode 44\taverage score: 30.89\t100-last-episodes trailing average score: 28.82\n",
      "Episode 45\taverage score: 32.58\t100-last-episodes trailing average score: 28.91\n",
      "Episode 46\taverage score: 32.15\t100-last-episodes trailing average score: 28.98\n",
      "Episode 47\taverage score: 27.86\t100-last-episodes trailing average score: 28.95\n",
      "Episode 48\taverage score: 29.41\t100-last-episodes trailing average score: 28.96\n",
      "Episode 49\taverage score: 34.37\t100-last-episodes trailing average score: 29.07\n",
      "Episode 50\taverage score: 33.72\t100-last-episodes trailing average score: 29.17\n",
      "Episode 51\taverage score: 28.29\t100-last-episodes trailing average score: 29.15\n",
      "Episode 52\taverage score: 34.79\t100-last-episodes trailing average score: 29.26\n",
      "Episode 53\taverage score: 35.39\t100-last-episodes trailing average score: 29.37\n",
      "Episode 54\taverage score: 33.90\t100-last-episodes trailing average score: 29.46\n",
      "Episode 55\taverage score: 31.73\t100-last-episodes trailing average score: 29.50\n",
      "Episode 56\taverage score: 34.04\t100-last-episodes trailing average score: 29.58\n",
      "Episode 57\taverage score: 35.48\t100-last-episodes trailing average score: 29.68\n",
      "Episode 58\taverage score: 32.04\t100-last-episodes trailing average score: 29.72\n",
      "Episode 59\taverage score: 36.05\t100-last-episodes trailing average score: 29.83\n",
      "Episode 60\taverage score: 32.97\t100-last-episodes trailing average score: 29.88\n",
      "Episode 61\taverage score: 34.67\t100-last-episodes trailing average score: 29.96\n",
      "Episode 62\taverage score: 35.94\t100-last-episodes trailing average score: 30.06\n",
      "Episode 63\taverage score: 31.33\t100-last-episodes trailing average score: 30.08\n",
      "Episode 64\taverage score: 33.92\t100-last-episodes trailing average score: 30.14\n",
      "Episode 65\taverage score: 32.65\t100-last-episodes trailing average score: 30.18\n",
      "Episode 66\taverage score: 34.06\t100-last-episodes trailing average score: 30.24\n",
      "Episode 67\taverage score: 31.89\t100-last-episodes trailing average score: 30.26\n",
      "Episode 68\taverage score: 34.05\t100-last-episodes trailing average score: 30.32\n",
      "Episode 69\taverage score: 34.83\t100-last-episodes trailing average score: 30.38\n",
      "Episode 70\taverage score: 29.46\t100-last-episodes trailing average score: 30.37\n",
      "Episode 71\taverage score: 28.93\t100-last-episodes trailing average score: 30.35\n",
      "Episode 72\taverage score: 25.74\t100-last-episodes trailing average score: 30.28\n",
      "Episode 73\taverage score: 31.14\t100-last-episodes trailing average score: 30.30\n",
      "Episode 74\taverage score: 32.73\t100-last-episodes trailing average score: 30.33\n",
      "Episode 75\taverage score: 33.63\t100-last-episodes trailing average score: 30.37\n",
      "Episode 76\taverage score: 37.40\t100-last-episodes trailing average score: 30.47\n",
      "Episode 77\taverage score: 37.83\t100-last-episodes trailing average score: 30.56\n",
      "Episode 78\taverage score: 35.39\t100-last-episodes trailing average score: 30.62\n",
      "Episode 79\taverage score: 32.64\t100-last-episodes trailing average score: 30.65\n",
      "Episode 80\taverage score: 29.87\t100-last-episodes trailing average score: 30.64\n",
      "Episode 81\taverage score: 33.32\t100-last-episodes trailing average score: 30.67\n",
      "Episode 82\taverage score: 32.93\t100-last-episodes trailing average score: 30.70\n",
      "Episode 83\taverage score: 34.63\t100-last-episodes trailing average score: 30.75\n",
      "Episode 84\taverage score: 34.63\t100-last-episodes trailing average score: 30.79\n",
      "Episode 85\taverage score: 34.11\t100-last-episodes trailing average score: 30.83\n",
      "Episode 86\taverage score: 33.37\t100-last-episodes trailing average score: 30.86\n",
      "Episode 87\taverage score: 31.99\t100-last-episodes trailing average score: 30.87\n",
      "Episode 88\taverage score: 35.02\t100-last-episodes trailing average score: 30.92\n",
      "Episode 89\taverage score: 35.05\t100-last-episodes trailing average score: 30.97\n",
      "Episode 90\taverage score: 31.09\t100-last-episodes trailing average score: 30.97\n",
      "Episode 91\taverage score: 31.65\t100-last-episodes trailing average score: 30.98\n",
      "Episode 92\taverage score: 36.12\t100-last-episodes trailing average score: 31.03\n",
      "Episode 93\taverage score: 32.79\t100-last-episodes trailing average score: 31.05\n",
      "Episode 94\taverage score: 36.64\t100-last-episodes trailing average score: 31.11\n",
      "Episode 95\taverage score: 36.52\t100-last-episodes trailing average score: 31.17\n",
      "Episode 96\taverage score: 34.58\t100-last-episodes trailing average score: 31.20\n",
      "Episode 97\taverage score: 27.54\t100-last-episodes trailing average score: 31.17\n",
      "Episode 98\taverage score: 31.04\t100-last-episodes trailing average score: 31.16\n",
      "Episode 99\taverage score: 36.47\t100-last-episodes trailing average score: 31.22\n",
      "Episode 100\taverage score: 32.54\t100-last-episodes trailing average score: 31.23\n",
      "Episode 101\taverage score: 38.01\t100-last-episodes trailing average score: 31.60\n",
      "DDPG training complete\n"
     ]
    }
   ],
   "source": [
    "scores = ddpg()"
   ]
  },
  {
   "cell_type": "code",
   "execution_count": 11,
   "metadata": {},
   "outputs": [
    {
     "data": {
      "image/png": "[encoded data removed]",
      "text/plain": [
       "<Figure size 432x288 with 1 Axes>"
      ]
     },
     "metadata": {
      "needs_background": "light"
     },
     "output_type": "display_data"
    }
   ],
   "source": [
    "import matplotlib.pyplot as plt\n",
    "%matplotlib inline\n",
    "fig = plt.figure()\n",
    "ax = fig.add_subplot(111)\n",
    "plt.plot(np.arange(1, len(scores)+1), scores)\n",
    "plt.ylabel('Score')\n",
    "plt.xlabel('Episode #')\n",
    "plt.show()"
   ]
  },
  {
   "cell_type": "markdown",
   "metadata": {},
   "source": [
    "### 5. Replay of trained actor"
   ]
  },
  {
   "cell_type": "code",
   "execution_count": 8,
   "metadata": {},
   "outputs": [
    {
     "name": "stdout",
     "output_type": "stream",
     "text": [
      "Total score (averaged over agents) this episode: 39.16149912467226\n"
     ]
    }
   ],
   "source": [
    "from ddpg_agent_ac import Agent\n",
    "\n",
    "env_info = env.reset(train_mode=False)[brain_name]     # reset the environment    \n",
    "states = env_info.vector_observations                  # get the current state (for each agent)\n",
    "scores = np.zeros(num_agents)                          # initialize the score (for each agent)\n",
    "agent = Agent(0, state_size, action_size, 0)\n",
    "agent.actor.load_state_dict(torch.load('checkpoint_actor.pth'))\n",
    "\n",
    "while True:\n",
    "    actions = agent.act(states, False)                 # select an action (for each agent)\n",
    "    env_info = env.step(actions)[brain_name]           # send all actions to tne environment\n",
    "    next_states = env_info.vector_observations         # get next state (for each agent)\n",
    "    rewards = env_info.rewards                         # get reward (for each agent)\n",
    "    dones = env_info.local_done                        # see if episode finished\n",
    "    scores += env_info.rewards                         # update the score (for each agent)\n",
    "    states = next_states                               # roll over states to next time step\n",
    "    if np.any(dones):                                  # exit loop if episode finished\n",
    "        break\n",
    "print('Total score (averaged over agents) this episode: {}'.format(np.mean(scores)))\n"
   ]
  }
 ],
 "metadata": {
  "kernelspec": {
   "display_name": "Python 3.8.13 ('drlnd')",
   "language": "python",
   "name": "python3"
  },
  "language_info": {
   "codemirror_mode": {
    "name": "ipython",
    "version": 3
   },
   "file_extension": ".py",
   "mimetype": "text/x-python",
   "name": "python",
   "nbconvert_exporter": "python",
   "pygments_lexer": "ipython3",
   "version": "3.8.13"
  },
  "vscode": {
   "interpreter": {
    "hash": "2c458aefcedec99052606723328b985fbd2c296e91b36c9562c4635531fb2e91"
   }
  }
 },
 "nbformat": 4,
 "nbformat_minor": 2
}
